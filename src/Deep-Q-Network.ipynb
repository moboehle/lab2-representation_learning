{
 "cells": [
  {
   "cell_type": "code",
   "execution_count": 1,
   "metadata": {
    "collapsed": true
   },
   "outputs": [],
   "source": [
    "#Inspired by and adapted to my needs from https://github.com/ageron\n",
    "#Based on Mnih 2013, playing atari with deep reinforcement learning"
   ]
  },
  {
   "cell_type": "code",
   "execution_count": 2,
   "metadata": {
    "collapsed": false
   },
   "outputs": [
    {
     "name": "stderr",
     "output_type": "stream",
     "text": [
      "/opt/anaconda/lib/python3.6/importlib/_bootstrap.py:205: RuntimeWarning: compiletime version 3.5 of module 'tensorflow.python.framework.fast_tensor_util' does not match runtime version 3.6\n",
      "  return f(*args, **kwds)\n",
      "/opt/anaconda/lib/python3.6/site-packages/h5py/__init__.py:34: FutureWarning: Conversion of the second argument of issubdtype from `float` to `np.floating` is deprecated. In future, it will be treated as `np.float64 == np.dtype(float).type`.\n",
      "  from ._conv import register_converters as _register_converters\n"
     ]
    }
   ],
   "source": [
    "%reset -f\n",
    "import tensorflow as tf\n",
    "from importlib import reload\n",
    "sess = tf.InteractiveSession()\n",
    "import os\n",
    "import random\n",
    "from params import * \n",
    "import world \n",
    "from copy import copy\n",
    "import matplotlib.pyplot as plt\n",
    "from collections import deque\n",
    "import numpy as np\n",
    "%matplotlib inline\n",
    "from network import *"
   ]
  },
  {
   "cell_type": "code",
   "execution_count": 3,
   "metadata": {
    "collapsed": false
   },
   "outputs": [],
   "source": [
    "world = reload(world)\n",
    "my_world = world.world(game_mode='abs_length')"
   ]
  },
  {
   "cell_type": "code",
   "execution_count": 4,
   "metadata": {
    "collapsed": false
   },
   "outputs": [
    {
     "data": {
      "text/plain": [
       "<matplotlib.image.AxesImage at 0x114823e48>"
      ]
     },
     "execution_count": 4,
     "metadata": {},
     "output_type": "execute_result"
    },
    {
     "data": {
      "image/png": "[encoded data removed]",
      "text/plain": [
       "<matplotlib.figure.Figure at 0x1147857b8>"
      ]
     },
     "metadata": {},
     "output_type": "display_data"
    }
   ],
   "source": [
    "plt.imshow(my_world.get_frame()[:,:,0])\n"
   ]
  },
  {
   "cell_type": "code",
   "execution_count": 5,
   "metadata": {
    "collapsed": false
   },
   "outputs": [],
   "source": [
    "#New way of changing the axes: Change them by a certain percentage. \n",
    "#This is because the goal is to make the network indifferent to the scale of the ellipse and\n",
    "#only learn to recognize the ratio that the axes have. However, if the benefit that an action has depends on the \n",
    "#scale, then learning to ignore the scale might prove difficult.\n",
    "\n",
    "# Maybe need to change to different world, learning scale invariance might be an unnecessary complicated task\n",
    "# requiring a network with too many parameters.\n",
    "\n",
    "def increase_height():\n",
    "    #change in percent\n",
    "    my_world.change_height(.1)\n",
    "def decrease_height():\n",
    "    #change in percent\n",
    "    my_world.change_height(-.1)\n",
    "def increase_width():\n",
    "    #change in percent\n",
    "    my_world.change_width(.1)\n",
    "def decrease_width():\n",
    "    #change in percent\n",
    "    my_world.change_width(-.1)\n",
    "actions = [increase_height,decrease_height,increase_width,decrease_width]\n",
    "\n",
    "num_actions = len(actions)"
   ]
  },
  {
   "cell_type": "markdown",
   "metadata": {},
   "source": [
    "### How does the model architecture look like?\n",
    "\n",
    "- We have the input with dimensions [FRAME_DIM,FRAME_DIM,1] (in the DQN of Mnih, the 4 last images are taken. However, our task is much simpler and does not require to learn any correlations between the images, so 1 is sufficient as the last dimension (taking just 1 image.)\n",
    "- Moreover, in our case, it is sufficient to take $\\Phi$ to be the identity function, since we do not need preprocessing for image cropping etc.\n",
    "\n",
    "\n",
    "- First hidden layer: 16 filters of size 8x8 with stride 4. acitvation : relu\n",
    "- Second hidden layer: 32 filters of size 4x4 with stride 2, again relu\n",
    "- Final hidden 128 relus, fully connected.\n",
    "- output layer: fully connected, one output for each action. "
   ]
  },
  {
   "cell_type": "code",
   "execution_count": 6,
   "metadata": {
    "collapsed": false
   },
   "outputs": [],
   "source": [
    "dqn_args   = {\"n_out_h1\" : 16, \"kernel_size_h1\":(8,8), \"strides_h1\" : 4, \"padding\" : \"SAME\", \\\n",
    "              \"actvt_fct\" : tf.nn.relu, \"n_out_h2\" : 32, \"kernel_size_h2\":(4,4), \"strides_h2\" : 2, \\\n",
    "              \"n_out_h3\" : 128,\"initializer\" : tf.contrib.layers.variance_scaling_initializer() }\n",
    "\n",
    "learning_rate  = 10**(-3)\n",
    "\n",
    "# start training after memory is somewhat filled.\n",
    "training_start = 500  \n",
    "# gamma discount factor for future rewards. \n",
    "discount_rate  = 0.8 \n",
    "batch_size     = 32 \n",
    "\n",
    "#Precision at what the goal state will be accepted. For more info look at my_world.game_over()\n",
    "precision = 2\n",
    "\n",
    "\n",
    "over = True\n",
    "\n",
    "# We will keep track of the max Q-Value over time and compute the mean per game\n",
    "prediction_loss = np.infty\n",
    "game_length = 0\n",
    "finished   = -1\n",
    "\n",
    "\n",
    "\n",
    "num_total_updates = 50000\n",
    "verbose = True\n",
    "\n",
    "#Time interval after which the target network gets updated by the online learning network\n",
    "learn_period = 20\n",
    "\n",
    "\n",
    "game_length_over_t = []\n",
    "\n",
    "time = []\n",
    "t = 0 \n",
    "\n",
    "#Epsilon greedy policy: initially fully exploratory then decaying epsilon\n",
    "eps_min = 0.25\n",
    "eps_max = 1.0 \n",
    "exploratory_steps = num_total_updates//6\n",
    "eps_decay_steps = num_total_updates-exploratory_steps"
   ]
  },
  {
   "cell_type": "code",
   "execution_count": 7,
   "metadata": {
    "collapsed": false
   },
   "outputs": [],
   "source": [
    "\n",
    "\n",
    "#x is our current state, i.e. just the current image.\n",
    "#Same for learning network as for predicting network, therefore defined outside the scope so that it can be shared.\n",
    "\n",
    "learner_out  , learner_vars   = network(\"learner\"  ,**dqn_args,num_actions=num_actions)\n",
    "predictor_out, predictor_vars = network(\"predictor\",**dqn_args,num_actions=num_actions)"
   ]
  },
  {
   "cell_type": "code",
   "execution_count": 8,
   "metadata": {
    "collapsed": false
   },
   "outputs": [],
   "source": [
    "#clever way in tensorflow of updating the predictor network!\n",
    "#Since all operations are just stored as nodes in the graph, the reassignment operations can be put into \n",
    "#a single group of operations. Whenever this group is then called during a session, the assignment node\n",
    "# gets activated -> Transfer of current learning parameter values into the predicting network.\n",
    "update_operations = [predictor_var.assign(learner_vars[var_name])\n",
    "                    for var_name, predictor_var in predictor_vars.items()]\n",
    "\n",
    "update_predictor = tf.group(*update_operations)\n"
   ]
  },
  {
   "cell_type": "markdown",
   "metadata": {},
   "source": [
    "### Training step of the network"
   ]
  },
  {
   "cell_type": "code",
   "execution_count": 9,
   "metadata": {
    "collapsed": false
   },
   "outputs": [],
   "source": [
    "#Define all the variables that will be used for the training, e.g. actions taken, target, q_value and so on.\n",
    "\n",
    "with tf.variable_scope(\"training\",reuse=tf.AUTO_REUSE):\n",
    "    \n",
    "    #Placeholder for batch of actions during training.\n",
    "    act_idx = tf.placeholder(tf.int32, shape=[None])\n",
    "    #Placeholder for estimated discounted future reward achieved in a step.\n",
    "    y = tf.placeholder(tf.float32, shape=[None, 1])\n",
    "    \n",
    "    # The q_value of the online learning network for a certain step.\n",
    "    q_value = tf.reduce_sum(learner_out * tf.one_hot(act_idx, num_actions), axis=1, keep_dims=True)\n",
    "    \n",
    "    ### As in the paper by Mnih, loss is squared difference between target and estimate. \n",
    "    loss = tf.squared_difference(y,q_value,\"loss\")\n",
    "    \n",
    "    #Keeping track of how many batches the network has seen for training.\n",
    "    global_step = tf.Variable(0, trainable=False, name='global_step')\n",
    "    # Optimizer used by Mnih\n",
    "    optimizer = tf.train.RMSPropOptimizer(learning_rate)\n",
    "    training_step = optimizer.minimize(loss, global_step=global_step)"
   ]
  },
  {
   "cell_type": "code",
   "execution_count": 10,
   "metadata": {
    "collapsed": true
   },
   "outputs": [],
   "source": [
    "#Memory for replay\n",
    "max_memory = 500\n",
    "#Using deque so that max_length is automatically maintained when pushing new data into the replay buffer.\n",
    "memory = deque([],maxlen=max_memory)\n"
   ]
  },
  {
   "cell_type": "code",
   "execution_count": 11,
   "metadata": {
    "collapsed": false
   },
   "outputs": [],
   "source": [
    "def sample_memories(batch_size):\n",
    "    \n",
    "    '''\n",
    "    Sample memories from the replay buffer. Returns a batch of batch_size that includes the \n",
    "    remembered state-action-reward-next_state-game_over tuple.\n",
    "    '''\n",
    "    \n",
    "    memo_batch  = np.array(random.sample(memory,batch_size))\n",
    "    \n",
    "    mem_states       = np.stack(np.array(memo_batch[:,0]))\n",
    "    mem_actions      = np.stack(np.array(memo_batch[:,1]))\n",
    "    mem_rewards      = np.stack(np.array(memo_batch[:,2]))\n",
    "    mem_nxt_state    = np.stack(np.array(memo_batch[:,3]))\n",
    "    mem_final_state  = np.stack(np.array(memo_batch[:,4]))\n",
    "\n",
    "    \n",
    "    return (mem_states, mem_actions, mem_rewards.reshape(-1, 1), mem_nxt_state, mem_final_state.reshape(-1, 1))\n",
    "\n",
    "\n",
    "def epsilon_greedy(q_values, num_updates):\n",
    "    '''\n",
    "    Custom epsilon greedy policy. Learn completely random in the first \"exploratory_steps\" number of steps to\n",
    "    explore the state space more or less equally. Then decay to minimal epsilon to become more and more greedy.\n",
    "    '''\n",
    "    \n",
    "    #First completely random, then decaying linearly from eps_max to eps_min\n",
    "    epsilon = 1 if num_updates< exploratory_steps else  \\\n",
    "                max(eps_min, eps_max - (eps_max-eps_min) * (num_updates-exploratory_steps)/eps_decay_steps)\n",
    "        \n",
    "    if np.random.rand() < epsilon:\n",
    "        # explore\n",
    "        return np.random.randint(num_actions) \n",
    "    else:\n",
    "        # exploit\n",
    "        return np.argmax(q_values) \n",
    "\n"
   ]
  },
  {
   "cell_type": "code",
   "execution_count": 9,
   "metadata": {
    "collapsed": false
   },
   "outputs": [],
   "source": [
    "#!rm .index"
   ]
  },
  {
   "cell_type": "code",
   "execution_count": 12,
   "metadata": {
    "collapsed": false
   },
   "outputs": [],
   "source": [
    "init = tf.global_variables_initializer()\n",
    "saver = tf.train.Saver()"
   ]
  },
  {
   "cell_type": "code",
   "execution_count": 13,
   "metadata": {
    "collapsed": false,
    "scrolled": true
   },
   "outputs": [
    {
     "name": "stdout",
     "output_type": "stream",
     "text": [
      " Update 49900/50000 loss : 0.21  finished games:1210 width 8.1 height 7.3 ratio 1.131"
     ]
    }
   ],
   "source": [
    "start_at = 0\n",
    "with tf.Session() as sess:\n",
    "    \n",
    "    if os.path.isfile(\"./.index\"):\n",
    "        saver.restore(sess, './')\n",
    "        start_at = global_step.eval()\n",
    "        #sess.run(tf.assign(global_step,0))\n",
    "    else:\n",
    "        init.run()\n",
    "        \n",
    "    #start with online being the same as predictor network\n",
    "    update_predictor.run()\n",
    "    \n",
    "    print(\"Starting learning process - Filling memory.\",end=\"\")\n",
    "    \n",
    "    while True:\n",
    "        t +=1\n",
    "        num_updates = global_step.eval()\n",
    "        if num_updates-start_at >= num_total_updates:\n",
    "            saver.save(sess, \"./\")\n",
    "            break\n",
    "            \n",
    "        #Reset world if goal is reached  \n",
    "        if over:            \n",
    "            finished +=1\n",
    "            my_world.restart()\n",
    "            state = my_world.get_frame()\n",
    "\n",
    "\n",
    "        #Perform actions according to online network and our custom epsilon greedy policy.\n",
    "        q_values = learner_out.eval(feed_dict={x: [state]})\n",
    "        action_idx = epsilon_greedy(q_values, num_updates-start_at)\n",
    "        #Perform action\n",
    "        actions[action_idx]()\n",
    "        #observe world...\n",
    "        next_state, reward, over = (my_world.get_frame(),\\\n",
    "                                    my_world.get_reward(),\\\n",
    "                                    my_world.game_over(precision=precision))\n",
    "\n",
    "        #Place observations in memory.\n",
    "        memory.append((state, action_idx, reward, next_state, not over))\n",
    "\n",
    "        \n",
    "        state = next_state\n",
    "\n",
    "        \n",
    "        \n",
    "        #Keep track of game_length over time\n",
    "        game_length += 1\n",
    "\n",
    "        if over:\n",
    "            game_length_over_t.append(game_length)\n",
    "            time.append(t)\n",
    "            game_length = 0\n",
    "\n",
    "        if len(memory) < training_start:\n",
    "            \n",
    "            #To entertain whomever is watching this..\n",
    "            if len(memory) % training_start//5 == 0:\n",
    "                print(\".\",end=\"\")\n",
    "            \n",
    "            #skip first \"training_start\" steps until memory is filled enough\n",
    "            continue\n",
    "        \n",
    "        \n",
    "        #Print progress!\n",
    "        elif verbose and num_updates % 100 == 0:\n",
    "            print(\"\\r Update {}/{} loss : {:.2f} \"\n",
    "                  \" finished games:{} width {:.1f} height {:.1f} ratio {:.1f}\".format(\n",
    "             num_updates-start_at, num_total_updates,np.sum(prediction_loss)/batch_size,\n",
    "             finished,my_world.haxis,my_world.vaxis,my_world.get_ratio()), end=\"\")\n",
    "            \n",
    "            \n",
    "        # Sample memories and use the target DQN to produce the target Q-Value\n",
    "        mem_x, mem_action, mem_rewards, mem_next_state, continues = sample_memories(batch_size)\n",
    "        \n",
    "        #For target estimate use the predictor #bootstrappingFutureRewards..\n",
    "        next_q_values = predictor_out.eval(feed_dict={x: mem_next_state})\n",
    "        #Learn according to greedy policy.\n",
    "        max_next_q_values = np.max(next_q_values, axis=1, keepdims=True)\n",
    "        \n",
    "        #Target to achieve. \n",
    "        y_val = mem_rewards + continues * discount_rate * max_next_q_values\n",
    "\n",
    "        #Perform training steps and calculate the loss\n",
    "        _, prediction_loss = sess.run([training_step, loss], feed_dict={\n",
    "            x: mem_x, act_idx: mem_action, y: y_val})\n",
    "\n",
    "        # Update the predicting network every once in a while \n",
    "        if num_updates % learn_period == 0:\n",
    "            update_predictor.run()\n",
    "\n",
    "        # save tuned variables.\n",
    "        if num_updates % 1000 == 0:\n",
    "            saver.save(sess, \"./\")"
   ]
  },
  {
   "cell_type": "code",
   "execution_count": 14,
   "metadata": {
    "collapsed": false
   },
   "outputs": [
    {
     "data": {
      "text/plain": [
       "[<matplotlib.lines.Line2D at 0x13a1604e0>]"
      ]
     },
     "execution_count": 14,
     "metadata": {},
     "output_type": "execute_result"
    },
    {
     "data": {
      "image/png": "[encoded data removed]",
      "text/plain": [
       "<matplotlib.figure.Figure at 0x128dee080>"
      ]
     },
     "metadata": {},
     "output_type": "display_data"
    }
   ],
   "source": [
    "plt.plot(time, game_length_over_t)"
   ]
  },
  {
   "cell_type": "code",
   "execution_count": 13,
   "metadata": {
    "collapsed": false
   },
   "outputs": [
    {
     "name": "stdout",
     "output_type": "stream",
     "text": [
      "INFO:tensorflow:Restoring parameters from ./\n"
     ]
    }
   ],
   "source": [
    "game_length = 0\n",
    "play_game_length_over_t = []\n",
    "play_time = []\n",
    "with tf.Session() as sess:\n",
    "    \n",
    "    if os.path.isfile(\"./.index\"):\n",
    "        saver.restore(sess, './')\n",
    "        \n",
    "        \n",
    "        for t in range(2000):\n",
    "            #Reset world if goal is reached  \n",
    "            if over:            \n",
    "                finished +=1\n",
    "                my_world.restart()\n",
    "                state = my_world.get_frame()\n",
    "\n",
    "\n",
    "            #Perform actions according to online network and our custom epsilon greedy policy.\n",
    "            q_values = predictor_out.eval(feed_dict={x: [state]})\n",
    "            action_idx = np.argmax(q_values)\n",
    "            #Perform action\n",
    "            actions[action_idx]()\n",
    "            #observe world...\n",
    "            state, reward, over = (my_world.get_frame(),\\\n",
    "                                        my_world.get_reward(),\\\n",
    "                                        my_world.game_over(precision=precision))\n",
    "\n",
    "           \n",
    "            #Keep track of game_length over time\n",
    "            game_length += 1\n",
    "\n",
    "            if over:\n",
    "                play_game_length_over_t.append(game_length)\n",
    "                play_time.append(t)\n",
    "                game_length = 0"
   ]
  },
  {
   "cell_type": "code",
   "execution_count": 14,
   "metadata": {
    "collapsed": false
   },
   "outputs": [
    {
     "data": {
      "text/plain": [
       "[<matplotlib.lines.Line2D at 0x11d109748>]"
      ]
     },
     "execution_count": 14,
     "metadata": {},
     "output_type": "execute_result"
    },
    {
     "data": {
      "image/png": "[encoded data removed]",
      "text/plain": [
       "<matplotlib.figure.Figure at 0x11cdaefd0>"
      ]
     },
     "metadata": {},
     "output_type": "display_data"
    }
   ],
   "source": [
    "plt.plot(play_time,play_game_length_over_t)"
   ]
  },
  {
   "cell_type": "code",
   "execution_count": null,
   "metadata": {
    "collapsed": true
   },
   "outputs": [],
   "source": []
  }
 ],
 "metadata": {
  "celltoolbar": "Raw Cell Format",
  "kernelspec": {
   "display_name": "Python 3",
   "language": "python",
   "name": "python3"
  },
  "language_info": {
   "codemirror_mode": {
    "name": "ipython",
    "version": 3
   },
   "file_extension": ".py",
   "mimetype": "text/x-python",
   "name": "python",
   "nbconvert_exporter": "python",
   "pygments_lexer": "ipython3",
   "version": "3.6.0"
  }
 },
 "nbformat": 4,
 "nbformat_minor": 2
}
